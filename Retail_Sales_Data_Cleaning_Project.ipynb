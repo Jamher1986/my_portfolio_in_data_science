{
 "cells": [
  {
   "cell_type": "markdown",
   "id": "ec53bede-73aa-45da-b4bd-bc0901407db8",
   "metadata": {},
   "source": [
    "# 🧹 Retail Sales Data Cleaning Project\n",
    "\n",
    "## 📌 Project Overview\n",
    "This project focuses on cleaning a retail sales dataset with issues such as missing values, inconsistent formatting, and duplicate records. The goal is to prepare the data for reliable analysis."
   ]
  },
  {
   "cell_type": "markdown",
   "id": "334d7c36-a149-4e61-94dc-269ef2040e34",
   "metadata": {},
   "source": [
    "## 🎯 Objectives\n",
    "- Identify and handle missing values  \n",
    "- Correct inconsistent text formatting  \n",
    "- Remove duplicate records  \n",
    "- Validate calculated fields (e.g., `Total = Quantity × Price per Unit`)  \n",
    "- Create additional features for future analysis\n"
   ]
  },
  {
   "cell_type": "markdown",
   "id": "4eed8037-cfd7-4bb4-8b2f-ebf95496108c",
   "metadata": {},
   "source": [
    "## 1. 📥 Import Required Libraries and Load the Dataset"
   ]
  },
  {
   "cell_type": "code",
   "execution_count": 4,
   "id": "46f647db-2199-4fc1-995b-f7042b5a38c2",
   "metadata": {},
   "outputs": [],
   "source": [
    "# Import Libraries\n",
    "import pandas as pd\n",
    "import numpy as np\n",
    "import matplotlib.pyplot as plt\n",
    "import seaborn as sns"
   ]
  },
  {
   "cell_type": "code",
   "execution_count": 5,
   "id": "cd80a1ee-9f05-43b3-9875-ddfb7adcd42c",
   "metadata": {
    "scrolled": true
   },
   "outputs": [
    {
     "data": {
      "text/html": [
       "<div>\n",
       "<style scoped>\n",
       "    .dataframe tbody tr th:only-of-type {\n",
       "        vertical-align: middle;\n",
       "    }\n",
       "\n",
       "    .dataframe tbody tr th {\n",
       "        vertical-align: top;\n",
       "    }\n",
       "\n",
       "    .dataframe thead th {\n",
       "        text-align: right;\n",
       "    }\n",
       "</style>\n",
       "<table border=\"1\" class=\"dataframe\">\n",
       "  <thead>\n",
       "    <tr style=\"text-align: right;\">\n",
       "      <th></th>\n",
       "      <th>Transaction ID</th>\n",
       "      <th>Date</th>\n",
       "      <th>Customer ID</th>\n",
       "      <th>Gender</th>\n",
       "      <th>Age</th>\n",
       "      <th>Product Category</th>\n",
       "      <th>Quantity</th>\n",
       "      <th>Price per Unit</th>\n",
       "      <th>Total Amount</th>\n",
       "    </tr>\n",
       "  </thead>\n",
       "  <tbody>\n",
       "    <tr>\n",
       "      <th>0</th>\n",
       "      <td>1001</td>\n",
       "      <td>2024-01-01</td>\n",
       "      <td>CUST1</td>\n",
       "      <td>Male</td>\n",
       "      <td>25.0</td>\n",
       "      <td>electronics</td>\n",
       "      <td>1</td>\n",
       "      <td>250</td>\n",
       "      <td>250.0</td>\n",
       "    </tr>\n",
       "    <tr>\n",
       "      <th>1</th>\n",
       "      <td>1018</td>\n",
       "      <td>2024-01-18</td>\n",
       "      <td>CUST18</td>\n",
       "      <td>FEMALE</td>\n",
       "      <td>29.0</td>\n",
       "      <td>clothing</td>\n",
       "      <td>2</td>\n",
       "      <td>44</td>\n",
       "      <td>88.0</td>\n",
       "    </tr>\n",
       "    <tr>\n",
       "      <th>2</th>\n",
       "      <td>1016</td>\n",
       "      <td>2024-01-16</td>\n",
       "      <td>CUST16</td>\n",
       "      <td>Male</td>\n",
       "      <td>25.0</td>\n",
       "      <td>electronics</td>\n",
       "      <td>1</td>\n",
       "      <td>245</td>\n",
       "      <td>245.0</td>\n",
       "    </tr>\n",
       "    <tr>\n",
       "      <th>3</th>\n",
       "      <td>1002</td>\n",
       "      <td>2024-01-02</td>\n",
       "      <td>CUST2</td>\n",
       "      <td>Female</td>\n",
       "      <td>34.0</td>\n",
       "      <td>GROCERY</td>\n",
       "      <td>2</td>\n",
       "      <td>20</td>\n",
       "      <td>NaN</td>\n",
       "    </tr>\n",
       "    <tr>\n",
       "      <th>4</th>\n",
       "      <td>1009</td>\n",
       "      <td>2024-01-09</td>\n",
       "      <td>CUST9</td>\n",
       "      <td>male</td>\n",
       "      <td>NaN</td>\n",
       "      <td>Clothing</td>\n",
       "      <td>1</td>\n",
       "      <td>60</td>\n",
       "      <td>NaN</td>\n",
       "    </tr>\n",
       "  </tbody>\n",
       "</table>\n",
       "</div>"
      ],
      "text/plain": [
       "   Transaction ID        Date Customer ID  Gender   Age Product Category  \\\n",
       "0            1001  2024-01-01       CUST1    Male  25.0     electronics    \n",
       "1            1018  2024-01-18      CUST18  FEMALE  29.0        clothing    \n",
       "2            1016  2024-01-16      CUST16    Male  25.0     electronics    \n",
       "3            1002  2024-01-02       CUST2  Female  34.0         GROCERY    \n",
       "4            1009  2024-01-09       CUST9    male   NaN        Clothing    \n",
       "\n",
       "   Quantity  Price per Unit  Total Amount  \n",
       "0         1             250         250.0  \n",
       "1         2              44          88.0  \n",
       "2         1             245         245.0  \n",
       "3         2              20           NaN  \n",
       "4         1              60           NaN  "
      ]
     },
     "execution_count": 5,
     "metadata": {},
     "output_type": "execute_result"
    }
   ],
   "source": [
    "# Load the dataset\n",
    "df = pd.read_csv(r\"C:\\Users\\USER\\Downloads\\retail_sales_dirty project2.csv\")\n",
    "df.head()"
   ]
  },
  {
   "cell_type": "markdown",
   "id": "98f5dbe1-4b2d-4089-b689-f0c07a7cfde8",
   "metadata": {},
   "source": [
    "## 2. 📊 Basic Data Exploration"
   ]
  },
  {
   "cell_type": "code",
   "execution_count": 7,
   "id": "1ebcd6bd-48e0-4a57-8e39-69748d343dd6",
   "metadata": {},
   "outputs": [
    {
     "data": {
      "text/html": [
       "<div>\n",
       "<style scoped>\n",
       "    .dataframe tbody tr th:only-of-type {\n",
       "        vertical-align: middle;\n",
       "    }\n",
       "\n",
       "    .dataframe tbody tr th {\n",
       "        vertical-align: top;\n",
       "    }\n",
       "\n",
       "    .dataframe thead th {\n",
       "        text-align: right;\n",
       "    }\n",
       "</style>\n",
       "<table border=\"1\" class=\"dataframe\">\n",
       "  <thead>\n",
       "    <tr style=\"text-align: right;\">\n",
       "      <th></th>\n",
       "      <th>Transaction ID</th>\n",
       "      <th>Date</th>\n",
       "      <th>Customer ID</th>\n",
       "      <th>Gender</th>\n",
       "      <th>Age</th>\n",
       "      <th>Product Category</th>\n",
       "      <th>Quantity</th>\n",
       "      <th>Price per Unit</th>\n",
       "      <th>Total Amount</th>\n",
       "    </tr>\n",
       "  </thead>\n",
       "  <tbody>\n",
       "    <tr>\n",
       "      <th>15</th>\n",
       "      <td>1013</td>\n",
       "      <td>2024-01-13</td>\n",
       "      <td>CUST13</td>\n",
       "      <td>FEMALE</td>\n",
       "      <td>29.0</td>\n",
       "      <td>clothing</td>\n",
       "      <td>2</td>\n",
       "      <td>38</td>\n",
       "      <td>NaN</td>\n",
       "    </tr>\n",
       "    <tr>\n",
       "      <th>16</th>\n",
       "      <td>1008</td>\n",
       "      <td>2024-01-08</td>\n",
       "      <td>CUST8</td>\n",
       "      <td>FEMALE</td>\n",
       "      <td>29.0</td>\n",
       "      <td>clothing</td>\n",
       "      <td>4</td>\n",
       "      <td>45</td>\n",
       "      <td>180.0</td>\n",
       "    </tr>\n",
       "    <tr>\n",
       "      <th>17</th>\n",
       "      <td>1011</td>\n",
       "      <td>2024-01-11</td>\n",
       "      <td>CUST11</td>\n",
       "      <td>Male</td>\n",
       "      <td>25.0</td>\n",
       "      <td>electronics</td>\n",
       "      <td>1</td>\n",
       "      <td>260</td>\n",
       "      <td>NaN</td>\n",
       "    </tr>\n",
       "    <tr>\n",
       "      <th>18</th>\n",
       "      <td>1015</td>\n",
       "      <td>2024-01-15</td>\n",
       "      <td>CUST15</td>\n",
       "      <td>NaN</td>\n",
       "      <td>45.0</td>\n",
       "      <td>grocery</td>\n",
       "      <td>8</td>\n",
       "      <td>13</td>\n",
       "      <td>104.0</td>\n",
       "    </tr>\n",
       "    <tr>\n",
       "      <th>19</th>\n",
       "      <td>1007</td>\n",
       "      <td>2024-01-07</td>\n",
       "      <td>CUST7</td>\n",
       "      <td>Female</td>\n",
       "      <td>34.0</td>\n",
       "      <td>GROCERY</td>\n",
       "      <td>2</td>\n",
       "      <td>22</td>\n",
       "      <td>44.0</td>\n",
       "    </tr>\n",
       "  </tbody>\n",
       "</table>\n",
       "</div>"
      ],
      "text/plain": [
       "    Transaction ID        Date Customer ID  Gender   Age Product Category  \\\n",
       "15            1013  2024-01-13      CUST13  FEMALE  29.0        clothing    \n",
       "16            1008  2024-01-08       CUST8  FEMALE  29.0        clothing    \n",
       "17            1011  2024-01-11      CUST11    Male  25.0     electronics    \n",
       "18            1015  2024-01-15      CUST15     NaN  45.0         grocery    \n",
       "19            1007  2024-01-07       CUST7  Female  34.0         GROCERY    \n",
       "\n",
       "    Quantity  Price per Unit  Total Amount  \n",
       "15         2              38           NaN  \n",
       "16         4              45         180.0  \n",
       "17         1             260           NaN  \n",
       "18         8              13         104.0  \n",
       "19         2              22          44.0  "
      ]
     },
     "execution_count": 7,
     "metadata": {},
     "output_type": "execute_result"
    }
   ],
   "source": [
    "# View the last 5 records\n",
    "df.tail()"
   ]
  },
  {
   "cell_type": "code",
   "execution_count": 8,
   "id": "8fc2620a-a8f4-49a1-9fef-8a10178a75bc",
   "metadata": {},
   "outputs": [
    {
     "data": {
      "text/plain": [
       "(20, 9)"
      ]
     },
     "execution_count": 8,
     "metadata": {},
     "output_type": "execute_result"
    }
   ],
   "source": [
    "# check shape of the dataset\n",
    "df.shape"
   ]
  },
  {
   "cell_type": "code",
   "execution_count": 9,
   "id": "6ef41cd9-6763-4f6e-b8f2-09777e9f6922",
   "metadata": {},
   "outputs": [
    {
     "name": "stdout",
     "output_type": "stream",
     "text": [
      "<class 'pandas.core.frame.DataFrame'>\n",
      "RangeIndex: 20 entries, 0 to 19\n",
      "Data columns (total 9 columns):\n",
      " #   Column            Non-Null Count  Dtype  \n",
      "---  ------            --------------  -----  \n",
      " 0   Transaction ID    20 non-null     int64  \n",
      " 1   Date              20 non-null     object \n",
      " 2   Customer ID       20 non-null     object \n",
      " 3   Gender            16 non-null     object \n",
      " 4   Age               16 non-null     float64\n",
      " 5   Product Category  20 non-null     object \n",
      " 6   Quantity          20 non-null     int64  \n",
      " 7   Price per Unit    20 non-null     int64  \n",
      " 8   Total Amount      15 non-null     float64\n",
      "dtypes: float64(2), int64(3), object(4)\n",
      "memory usage: 1.5+ KB\n"
     ]
    }
   ],
   "source": [
    "#  Get data types and null count\n",
    "df.info()"
   ]
  },
  {
   "cell_type": "code",
   "execution_count": 10,
   "id": "09065797-2342-49c0-ae4d-2adb23b98b2b",
   "metadata": {},
   "outputs": [
    {
     "data": {
      "text/plain": [
       "Transaction ID        int64\n",
       "Date                 object\n",
       "Customer ID          object\n",
       "Gender               object\n",
       "Age                 float64\n",
       "Product Category     object\n",
       "Quantity              int64\n",
       "Price per Unit        int64\n",
       "Total Amount        float64\n",
       "dtype: object"
      ]
     },
     "execution_count": 10,
     "metadata": {},
     "output_type": "execute_result"
    }
   ],
   "source": [
    "# 📊 Data Types\n",
    "df.dtypes  # View initial data types"
   ]
  },
  {
   "cell_type": "code",
   "execution_count": 11,
   "id": "87a5aa83-33a7-48ec-be7c-084f07e7658c",
   "metadata": {},
   "outputs": [],
   "source": [
    "# 🔄 Convert Date column to datetime\n",
    "df['Date'] = pd.to_datetime(df['Date'], errors='coerce')"
   ]
  },
  {
   "cell_type": "code",
   "execution_count": 12,
   "id": "d882d115-6bc7-4b8e-8658-c293b59e981d",
   "metadata": {},
   "outputs": [
    {
     "data": {
      "text/plain": [
       "dtype('<M8[ns]')"
      ]
     },
     "execution_count": 12,
     "metadata": {},
     "output_type": "execute_result"
    }
   ],
   "source": [
    "df['Date'].dtype # Check data type"
   ]
  },
  {
   "cell_type": "code",
   "execution_count": 13,
   "id": "b5820701-700c-48c7-99c1-f53d49de1dfc",
   "metadata": {},
   "outputs": [
    {
     "name": "stdout",
     "output_type": "stream",
     "text": [
      "Transaction ID      0\n",
      "Date                0\n",
      "Customer ID         0\n",
      "Gender              4\n",
      "Age                 4\n",
      "Product Category    0\n",
      "Quantity            0\n",
      "Price per Unit      0\n",
      "Total Amount        5\n",
      "dtype: int64\n"
     ]
    }
   ],
   "source": [
    "# 🔍 Check for Missing Values\n",
    "print(df.isna().sum())"
   ]
  },
  {
   "cell_type": "code",
   "execution_count": 14,
   "id": "dfb5d589-d9ae-47f1-a25e-e1d6b2cbe5b5",
   "metadata": {},
   "outputs": [
    {
     "name": "stderr",
     "output_type": "stream",
     "text": [
      "C:\\Users\\USER\\AppData\\Local\\Temp\\ipykernel_19256\\118974367.py:3: FutureWarning: A value is trying to be set on a copy of a DataFrame or Series through chained assignment using an inplace method.\n",
      "The behavior will change in pandas 3.0. This inplace method will never work because the intermediate object on which we are setting values always behaves as a copy.\n",
      "\n",
      "For example, when doing 'df[col].method(value, inplace=True)', try using 'df.method({col: value}, inplace=True)' or df[col] = df[col].method(value) instead, to perform the operation inplace on the original object.\n",
      "\n",
      "\n",
      "  df['Age'].fillna(df['Age'].median(),inplace=True)\n"
     ]
    }
   ],
   "source": [
    "# 🧼 Handle Missing Values\n",
    "# Fill missing Age values with the median\n",
    "df['Age'].fillna(df['Age'].median(),inplace=True)"
   ]
  },
  {
   "cell_type": "code",
   "execution_count": 15,
   "id": "1e36ee4e-3d53-47af-ab38-916bdcd20243",
   "metadata": {},
   "outputs": [
    {
     "data": {
      "text/html": [
       "<div>\n",
       "<style scoped>\n",
       "    .dataframe tbody tr th:only-of-type {\n",
       "        vertical-align: middle;\n",
       "    }\n",
       "\n",
       "    .dataframe tbody tr th {\n",
       "        vertical-align: top;\n",
       "    }\n",
       "\n",
       "    .dataframe thead th {\n",
       "        text-align: right;\n",
       "    }\n",
       "</style>\n",
       "<table border=\"1\" class=\"dataframe\">\n",
       "  <thead>\n",
       "    <tr style=\"text-align: right;\">\n",
       "      <th></th>\n",
       "      <th>Transaction ID</th>\n",
       "      <th>Date</th>\n",
       "      <th>Customer ID</th>\n",
       "      <th>Gender</th>\n",
       "      <th>Age</th>\n",
       "      <th>Product Category</th>\n",
       "      <th>Quantity</th>\n",
       "      <th>Price per Unit</th>\n",
       "      <th>Total Amount</th>\n",
       "    </tr>\n",
       "  </thead>\n",
       "  <tbody>\n",
       "    <tr>\n",
       "      <th>0</th>\n",
       "      <td>1001</td>\n",
       "      <td>2024-01-01</td>\n",
       "      <td>CUST1</td>\n",
       "      <td>Male</td>\n",
       "      <td>25.0</td>\n",
       "      <td>electronics</td>\n",
       "      <td>1</td>\n",
       "      <td>250</td>\n",
       "      <td>250.0</td>\n",
       "    </tr>\n",
       "    <tr>\n",
       "      <th>1</th>\n",
       "      <td>1018</td>\n",
       "      <td>2024-01-18</td>\n",
       "      <td>CUST18</td>\n",
       "      <td>FEMALE</td>\n",
       "      <td>29.0</td>\n",
       "      <td>clothing</td>\n",
       "      <td>2</td>\n",
       "      <td>44</td>\n",
       "      <td>88.0</td>\n",
       "    </tr>\n",
       "    <tr>\n",
       "      <th>2</th>\n",
       "      <td>1016</td>\n",
       "      <td>2024-01-16</td>\n",
       "      <td>CUST16</td>\n",
       "      <td>Male</td>\n",
       "      <td>25.0</td>\n",
       "      <td>electronics</td>\n",
       "      <td>1</td>\n",
       "      <td>245</td>\n",
       "      <td>245.0</td>\n",
       "    </tr>\n",
       "    <tr>\n",
       "      <th>3</th>\n",
       "      <td>1002</td>\n",
       "      <td>2024-01-02</td>\n",
       "      <td>CUST2</td>\n",
       "      <td>Female</td>\n",
       "      <td>34.0</td>\n",
       "      <td>GROCERY</td>\n",
       "      <td>2</td>\n",
       "      <td>20</td>\n",
       "      <td>NaN</td>\n",
       "    </tr>\n",
       "    <tr>\n",
       "      <th>4</th>\n",
       "      <td>1009</td>\n",
       "      <td>2024-01-09</td>\n",
       "      <td>CUST9</td>\n",
       "      <td>male</td>\n",
       "      <td>34.0</td>\n",
       "      <td>Clothing</td>\n",
       "      <td>1</td>\n",
       "      <td>60</td>\n",
       "      <td>NaN</td>\n",
       "    </tr>\n",
       "    <tr>\n",
       "      <th>5</th>\n",
       "      <td>1002</td>\n",
       "      <td>2024-01-02</td>\n",
       "      <td>CUST2</td>\n",
       "      <td>Female</td>\n",
       "      <td>34.0</td>\n",
       "      <td>GROCERY</td>\n",
       "      <td>2</td>\n",
       "      <td>20</td>\n",
       "      <td>NaN</td>\n",
       "    </tr>\n",
       "    <tr>\n",
       "      <th>6</th>\n",
       "      <td>1012</td>\n",
       "      <td>2024-01-12</td>\n",
       "      <td>CUST12</td>\n",
       "      <td>Female</td>\n",
       "      <td>34.0</td>\n",
       "      <td>GROCERY</td>\n",
       "      <td>1</td>\n",
       "      <td>21</td>\n",
       "      <td>21.0</td>\n",
       "    </tr>\n",
       "    <tr>\n",
       "      <th>7</th>\n",
       "      <td>1004</td>\n",
       "      <td>2024-01-04</td>\n",
       "      <td>CUST4</td>\n",
       "      <td>male</td>\n",
       "      <td>34.0</td>\n",
       "      <td>Clothing</td>\n",
       "      <td>3</td>\n",
       "      <td>50</td>\n",
       "      <td>150.0</td>\n",
       "    </tr>\n",
       "    <tr>\n",
       "      <th>8</th>\n",
       "      <td>1019</td>\n",
       "      <td>2024-01-19</td>\n",
       "      <td>CUST19</td>\n",
       "      <td>male</td>\n",
       "      <td>34.0</td>\n",
       "      <td>Clothing</td>\n",
       "      <td>2</td>\n",
       "      <td>59</td>\n",
       "      <td>118.0</td>\n",
       "    </tr>\n",
       "    <tr>\n",
       "      <th>9</th>\n",
       "      <td>1017</td>\n",
       "      <td>2024-01-17</td>\n",
       "      <td>CUST17</td>\n",
       "      <td>Female</td>\n",
       "      <td>34.0</td>\n",
       "      <td>GROCERY</td>\n",
       "      <td>1</td>\n",
       "      <td>23</td>\n",
       "      <td>23.0</td>\n",
       "    </tr>\n",
       "    <tr>\n",
       "      <th>10</th>\n",
       "      <td>1014</td>\n",
       "      <td>2024-01-14</td>\n",
       "      <td>CUST14</td>\n",
       "      <td>male</td>\n",
       "      <td>34.0</td>\n",
       "      <td>Clothing</td>\n",
       "      <td>2</td>\n",
       "      <td>55</td>\n",
       "      <td>110.0</td>\n",
       "    </tr>\n",
       "    <tr>\n",
       "      <th>11</th>\n",
       "      <td>1003</td>\n",
       "      <td>2024-01-03</td>\n",
       "      <td>CUST3</td>\n",
       "      <td>FEMALE</td>\n",
       "      <td>29.0</td>\n",
       "      <td>clothing</td>\n",
       "      <td>1</td>\n",
       "      <td>40</td>\n",
       "      <td>40.0</td>\n",
       "    </tr>\n",
       "    <tr>\n",
       "      <th>12</th>\n",
       "      <td>1010</td>\n",
       "      <td>2024-01-10</td>\n",
       "      <td>CUST10</td>\n",
       "      <td>NaN</td>\n",
       "      <td>45.0</td>\n",
       "      <td>grocery</td>\n",
       "      <td>6</td>\n",
       "      <td>10</td>\n",
       "      <td>60.0</td>\n",
       "    </tr>\n",
       "    <tr>\n",
       "      <th>13</th>\n",
       "      <td>1020</td>\n",
       "      <td>2024-01-20</td>\n",
       "      <td>CUST20</td>\n",
       "      <td>NaN</td>\n",
       "      <td>45.0</td>\n",
       "      <td>grocery</td>\n",
       "      <td>10</td>\n",
       "      <td>9</td>\n",
       "      <td>90.0</td>\n",
       "    </tr>\n",
       "    <tr>\n",
       "      <th>14</th>\n",
       "      <td>1005</td>\n",
       "      <td>2024-01-05</td>\n",
       "      <td>CUST5</td>\n",
       "      <td>NaN</td>\n",
       "      <td>45.0</td>\n",
       "      <td>grocery</td>\n",
       "      <td>5</td>\n",
       "      <td>15</td>\n",
       "      <td>75.0</td>\n",
       "    </tr>\n",
       "    <tr>\n",
       "      <th>15</th>\n",
       "      <td>1013</td>\n",
       "      <td>2024-01-13</td>\n",
       "      <td>CUST13</td>\n",
       "      <td>FEMALE</td>\n",
       "      <td>29.0</td>\n",
       "      <td>clothing</td>\n",
       "      <td>2</td>\n",
       "      <td>38</td>\n",
       "      <td>NaN</td>\n",
       "    </tr>\n",
       "    <tr>\n",
       "      <th>16</th>\n",
       "      <td>1008</td>\n",
       "      <td>2024-01-08</td>\n",
       "      <td>CUST8</td>\n",
       "      <td>FEMALE</td>\n",
       "      <td>29.0</td>\n",
       "      <td>clothing</td>\n",
       "      <td>4</td>\n",
       "      <td>45</td>\n",
       "      <td>180.0</td>\n",
       "    </tr>\n",
       "    <tr>\n",
       "      <th>17</th>\n",
       "      <td>1011</td>\n",
       "      <td>2024-01-11</td>\n",
       "      <td>CUST11</td>\n",
       "      <td>Male</td>\n",
       "      <td>25.0</td>\n",
       "      <td>electronics</td>\n",
       "      <td>1</td>\n",
       "      <td>260</td>\n",
       "      <td>NaN</td>\n",
       "    </tr>\n",
       "    <tr>\n",
       "      <th>18</th>\n",
       "      <td>1015</td>\n",
       "      <td>2024-01-15</td>\n",
       "      <td>CUST15</td>\n",
       "      <td>NaN</td>\n",
       "      <td>45.0</td>\n",
       "      <td>grocery</td>\n",
       "      <td>8</td>\n",
       "      <td>13</td>\n",
       "      <td>104.0</td>\n",
       "    </tr>\n",
       "    <tr>\n",
       "      <th>19</th>\n",
       "      <td>1007</td>\n",
       "      <td>2024-01-07</td>\n",
       "      <td>CUST7</td>\n",
       "      <td>Female</td>\n",
       "      <td>34.0</td>\n",
       "      <td>GROCERY</td>\n",
       "      <td>2</td>\n",
       "      <td>22</td>\n",
       "      <td>44.0</td>\n",
       "    </tr>\n",
       "  </tbody>\n",
       "</table>\n",
       "</div>"
      ],
      "text/plain": [
       "    Transaction ID       Date Customer ID  Gender   Age Product Category  \\\n",
       "0             1001 2024-01-01       CUST1    Male  25.0     electronics    \n",
       "1             1018 2024-01-18      CUST18  FEMALE  29.0        clothing    \n",
       "2             1016 2024-01-16      CUST16    Male  25.0     electronics    \n",
       "3             1002 2024-01-02       CUST2  Female  34.0         GROCERY    \n",
       "4             1009 2024-01-09       CUST9    male  34.0        Clothing    \n",
       "5             1002 2024-01-02       CUST2  Female  34.0         GROCERY    \n",
       "6             1012 2024-01-12      CUST12  Female  34.0         GROCERY    \n",
       "7             1004 2024-01-04       CUST4    male  34.0        Clothing    \n",
       "8             1019 2024-01-19      CUST19    male  34.0        Clothing    \n",
       "9             1017 2024-01-17      CUST17  Female  34.0         GROCERY    \n",
       "10            1014 2024-01-14      CUST14    male  34.0        Clothing    \n",
       "11            1003 2024-01-03       CUST3  FEMALE  29.0        clothing    \n",
       "12            1010 2024-01-10      CUST10     NaN  45.0         grocery    \n",
       "13            1020 2024-01-20      CUST20     NaN  45.0         grocery    \n",
       "14            1005 2024-01-05       CUST5     NaN  45.0         grocery    \n",
       "15            1013 2024-01-13      CUST13  FEMALE  29.0        clothing    \n",
       "16            1008 2024-01-08       CUST8  FEMALE  29.0        clothing    \n",
       "17            1011 2024-01-11      CUST11    Male  25.0     electronics    \n",
       "18            1015 2024-01-15      CUST15     NaN  45.0         grocery    \n",
       "19            1007 2024-01-07       CUST7  Female  34.0         GROCERY    \n",
       "\n",
       "    Quantity  Price per Unit  Total Amount  \n",
       "0          1             250         250.0  \n",
       "1          2              44          88.0  \n",
       "2          1             245         245.0  \n",
       "3          2              20           NaN  \n",
       "4          1              60           NaN  \n",
       "5          2              20           NaN  \n",
       "6          1              21          21.0  \n",
       "7          3              50         150.0  \n",
       "8          2              59         118.0  \n",
       "9          1              23          23.0  \n",
       "10         2              55         110.0  \n",
       "11         1              40          40.0  \n",
       "12         6              10          60.0  \n",
       "13        10               9          90.0  \n",
       "14         5              15          75.0  \n",
       "15         2              38           NaN  \n",
       "16         4              45         180.0  \n",
       "17         1             260           NaN  \n",
       "18         8              13         104.0  \n",
       "19         2              22          44.0  "
      ]
     },
     "execution_count": 15,
     "metadata": {},
     "output_type": "execute_result"
    }
   ],
   "source": [
    "df"
   ]
  },
  {
   "cell_type": "code",
   "execution_count": 16,
   "id": "a28cc09b-2394-47d3-9d0d-56673027f7ef",
   "metadata": {},
   "outputs": [],
   "source": [
    "# Fill missing Total Amount with Quantity × Price per Unit\n",
    "df['Total Amount'] = df['Total Amount'].fillna(df['Quantity'] * df['Price per Unit'])"
   ]
  },
  {
   "cell_type": "code",
   "execution_count": 17,
   "id": "550187dc-6e9c-4714-95bd-37064720cf8b",
   "metadata": {},
   "outputs": [
    {
     "name": "stderr",
     "output_type": "stream",
     "text": [
      "C:\\Users\\USER\\AppData\\Local\\Temp\\ipykernel_19256\\4010555542.py:2: FutureWarning: A value is trying to be set on a copy of a DataFrame or Series through chained assignment using an inplace method.\n",
      "The behavior will change in pandas 3.0. This inplace method will never work because the intermediate object on which we are setting values always behaves as a copy.\n",
      "\n",
      "For example, when doing 'df[col].method(value, inplace=True)', try using 'df.method({col: value}, inplace=True)' or df[col] = df[col].method(value) instead, to perform the operation inplace on the original object.\n",
      "\n",
      "\n",
      "  df['Gender'].fillna('Unknown',inplace=True)\n"
     ]
    }
   ],
   "source": [
    "# Fill missing Gender with 'Unknown'\n",
    "df['Gender'].fillna('Unknown',inplace=True)"
   ]
  },
  {
   "cell_type": "code",
   "execution_count": 18,
   "id": "88bc907d-1ba0-48e7-82d2-b1a49f2546aa",
   "metadata": {},
   "outputs": [],
   "source": [
    "# 🔍 Check for Duplicates\n",
    "df.duplicated().sum()\n",
    "df.drop_duplicates(inplace=True)"
   ]
  },
  {
   "cell_type": "code",
   "execution_count": 19,
   "id": "40a3221c-ea2c-4d6c-8c31-54a2f25f69bb",
   "metadata": {},
   "outputs": [],
   "source": [
    "# 🧼 Standardize Categorical Values\n",
    "df['Gender'] = df['Gender'].str.strip().str.capitalize()\n",
    "df['Product Category'] = df['Product Category'].str.strip().str.capitalize()"
   ]
  },
  {
   "cell_type": "code",
   "execution_count": 20,
   "id": "fc94d1a5-666c-455f-adea-b86374cb5794",
   "metadata": {},
   "outputs": [
    {
     "data": {
      "image/png": "[encoded data removed]",
      "text/plain": [
       "<Figure size 640x480 with 1 Axes>"
      ]
     },
     "metadata": {},
     "output_type": "display_data"
    }
   ],
   "source": [
    "# 📊 Detect & Visualize Outliers in Price\n",
    "sns.boxplot(df['Price per Unit'])\n",
    "plt.title('Outliers in Price')\n",
    "plt.show()"
   ]
  },
  {
   "cell_type": "code",
   "execution_count": 21,
   "id": "311c0f80-d549-45b9-8442-afab481df885",
   "metadata": {},
   "outputs": [],
   "source": [
    "# 🗃️ Sort Dataset for Consistency\n",
    "df = df.sort_values(by=['Transaction ID', 'Customer ID', 'Date'], ascending=[True, True, True])"
   ]
  },
  {
   "cell_type": "code",
   "execution_count": 22,
   "id": "2545f0bb-0330-4e4d-9fb9-d94612f431c8",
   "metadata": {},
   "outputs": [],
   "source": [
    "# 🔄 Reset Index After Sorting\n",
    "df.reset_index(drop=True, inplace=True)"
   ]
  },
  {
   "cell_type": "markdown",
   "id": "7d725eb1-1314-438c-b3c9-43ee79d9df9d",
   "metadata": {},
   "source": [
    "# ✅ Final Touches & Feature Engineering\n",
    " As a final step, I validated key business rules and created useful time-based features to enhance future analysis.\n"
   ]
  },
  {
   "cell_type": "code",
   "execution_count": 24,
   "id": "bfaf86ae-77bf-4a64-950e-3e5c826a7134",
   "metadata": {},
   "outputs": [],
   "source": [
    "# ✔️ Validate Business Rule: Total Amount = Quantity × Price per Uni\n",
    "df['Expected Total'] = df['Quantity'] * df['Price per Unit']\n",
    "discrepancies = df[df['Total Amount'] != df['Expected Total']]\n",
    "df.loc[discrepancies.index, 'Total Amount'] = df.loc[discrepancies.index, 'Expected Total']\n",
    "df.drop(columns=['Expected Total'], inplace=True)"
   ]
  },
  {
   "cell_type": "code",
   "execution_count": 25,
   "id": "f4a97e76-7be3-46d5-bdaa-552379cb0bf6",
   "metadata": {},
   "outputs": [],
   "source": [
    "# 🕒 Create New Date-Based Features\n",
    "df['Year'] = df['Date'].dt.year\n",
    "df['Month'] = df['Date'].dt.month\n",
    "df['Day'] = df['Date'].dt.day\n"
   ]
  },
  {
   "cell_type": "code",
   "execution_count": 26,
   "id": "93e8ae7d-d84b-4dba-a7f4-b2bbbb072180",
   "metadata": {},
   "outputs": [
    {
     "name": "stdout",
     "output_type": "stream",
     "text": [
      "✅ Cleaned dataset saved as 'retail_sales_cleaned.csv'\n"
     ]
    }
   ],
   "source": [
    "# 💾 Export the Cleaned Dataset\n",
    "df.to_csv('retail_sales_cleaned.csv', index=False)\n",
    "print(\"✅ Cleaned dataset saved as 'retail_sales_cleaned.csv'\")"
   ]
  },
  {
   "cell_type": "code",
   "execution_count": null,
   "id": "645bc2d1-e846-4a5d-9781-28621c854203",
   "metadata": {},
   "outputs": [],
   "source": []
  },
  {
   "cell_type": "code",
   "execution_count": null,
   "id": "2fff8e08-d112-4689-bdad-f02f78e4b243",
   "metadata": {},
   "outputs": [],
   "source": []
  },
  {
   "cell_type": "code",
   "execution_count": null,
   "id": "1c2c70ab-930d-4d39-9dd8-57725cf8d63a",
   "metadata": {},
   "outputs": [],
   "source": []
  },
  {
   "cell_type": "code",
   "execution_count": null,
   "id": "18fab6c4-ea47-47b7-9d7f-40ceeeea31c6",
   "metadata": {},
   "outputs": [],
   "source": []
  },
  {
   "cell_type": "code",
   "execution_count": null,
   "id": "6ff491dc-1fc1-48f1-b6b8-af58b423e0f0",
   "metadata": {},
   "outputs": [],
   "source": []
  },
  {
   "cell_type": "code",
   "execution_count": null,
   "id": "679bea9b-aafc-4ea1-ada6-624078abf0ea",
   "metadata": {},
   "outputs": [],
   "source": []
  },
  {
   "cell_type": "code",
   "execution_count": null,
   "id": "69afe78a-cb86-4302-a8c1-c2095f48ee30",
   "metadata": {},
   "outputs": [],
   "source": []
  },
  {
   "cell_type": "code",
   "execution_count": null,
   "id": "5d4b50bc-5ea4-4982-996d-4a2d8431bb73",
   "metadata": {},
   "outputs": [],
   "source": []
  },
  {
   "cell_type": "code",
   "execution_count": null,
   "id": "f9f22287-8f9f-407c-85e8-12312c989949",
   "metadata": {},
   "outputs": [],
   "source": []
  }
 ],
 "metadata": {
  "kernelspec": {
   "display_name": "Python 3 (ipykernel)",
   "language": "python",
   "name": "python3"
  },
  "language_info": {
   "codemirror_mode": {
    "name": "ipython",
    "version": 3
   },
   "file_extension": ".py",
   "mimetype": "text/x-python",
   "name": "python",
   "nbconvert_exporter": "python",
   "pygments_lexer": "ipython3",
   "version": "3.12.7"
  }
 },
 "nbformat": 4,
 "nbformat_minor": 5
}
