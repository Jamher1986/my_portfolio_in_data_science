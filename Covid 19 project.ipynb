{
 "cells": [
  {
   "cell_type": "markdown",
   "id": "807b2266-b0f3-46a2-b93b-7029d6e1bba4",
   "metadata": {},
   "source": [
    "## 📊 Project: Cleaning and Preparing COVID-19 Data from an API"
   ]
  },
  {
   "cell_type": "markdown",
   "id": "84b0a376-a7a0-4558-8829-fc828bc200c8",
   "metadata": {},
   "source": [
    "\"\"\"\n",
    "🔍 Objective: Retrieve COVID-19 data, clean and prepare it for analysis.\n",
    "🛠️ Tools: Python, requests, pandas, datetime\n",
    "📚 Skills: API consumption, data cleaning, time-series transformation\n",
    "\"\"\""
   ]
  },
  {
   "cell_type": "markdown",
   "id": "19022f39-4232-4bec-a9aa-1560ec53ad2a",
   "metadata": {},
   "source": [
    "# Import Libraries\n"
   ]
  },
  {
   "cell_type": "code",
   "execution_count": 86,
   "id": "7b7e6fb2-3a34-43a8-9a31-8835fe299cc7",
   "metadata": {},
   "outputs": [],
   "source": [
    "import pandas as pd\n",
    "import requests\n",
    "from datetime import datetime"
   ]
  },
  {
   "cell_type": "markdown",
   "id": "e4efbca3-5c2f-4848-a73e-1c59d9271e62",
   "metadata": {},
   "source": [
    "# Step 1: Fetch COVID-19 Historical Data"
   ]
  },
  {
   "cell_type": "code",
   "execution_count": 89,
   "id": "9844b3ad-a59a-4386-a3fb-f2b5e8f5fd2c",
   "metadata": {},
   "outputs": [],
   "source": [
    "# Fetch COVID-19 Historical Data\n",
    "url = \"https://disease.sh/v3/covid-19/historical?lastdays=30\"\n",
    "response = requests.get(url)\n",
    "\n",
    "if response.status_code == 200:\n",
    "    data = response.json()\n",
    "else:\n",
    "    raise Exception(f\"API request failed with status code {response.status_code}\")\n"
   ]
  },
  {
   "cell_type": "markdown",
   "id": "ffe98ce9-4bc0-495b-b787-07889adc7d3b",
   "metadata": {},
   "source": [
    "# Step 2: Normalize JSON into DataFram"
   ]
  },
  {
   "cell_type": "code",
   "execution_count": 91,
   "id": "c0dc5585-abd4-41db-b30a-62429af78486",
   "metadata": {},
   "outputs": [
    {
     "data": {
      "text/html": [
       "<div>\n",
       "<style scoped>\n",
       "    .dataframe tbody tr th:only-of-type {\n",
       "        vertical-align: middle;\n",
       "    }\n",
       "\n",
       "    .dataframe tbody tr th {\n",
       "        vertical-align: top;\n",
       "    }\n",
       "\n",
       "    .dataframe thead th {\n",
       "        text-align: right;\n",
       "    }\n",
       "</style>\n",
       "<table border=\"1\" class=\"dataframe\">\n",
       "  <thead>\n",
       "    <tr style=\"text-align: right;\">\n",
       "      <th></th>\n",
       "      <th>country</th>\n",
       "      <th>date</th>\n",
       "      <th>cases</th>\n",
       "      <th>deaths</th>\n",
       "      <th>recovered</th>\n",
       "    </tr>\n",
       "  </thead>\n",
       "  <tbody>\n",
       "    <tr>\n",
       "      <th>0</th>\n",
       "      <td>Afghanistan</td>\n",
       "      <td>2/8/23</td>\n",
       "      <td>208771</td>\n",
       "      <td>7896</td>\n",
       "      <td>0</td>\n",
       "    </tr>\n",
       "    <tr>\n",
       "      <th>1</th>\n",
       "      <td>Afghanistan</td>\n",
       "      <td>2/9/23</td>\n",
       "      <td>208771</td>\n",
       "      <td>7896</td>\n",
       "      <td>0</td>\n",
       "    </tr>\n",
       "    <tr>\n",
       "      <th>2</th>\n",
       "      <td>Afghanistan</td>\n",
       "      <td>2/10/23</td>\n",
       "      <td>208943</td>\n",
       "      <td>7896</td>\n",
       "      <td>0</td>\n",
       "    </tr>\n",
       "    <tr>\n",
       "      <th>3</th>\n",
       "      <td>Afghanistan</td>\n",
       "      <td>2/11/23</td>\n",
       "      <td>208971</td>\n",
       "      <td>7896</td>\n",
       "      <td>0</td>\n",
       "    </tr>\n",
       "    <tr>\n",
       "      <th>4</th>\n",
       "      <td>Afghanistan</td>\n",
       "      <td>2/12/23</td>\n",
       "      <td>208982</td>\n",
       "      <td>7896</td>\n",
       "      <td>0</td>\n",
       "    </tr>\n",
       "  </tbody>\n",
       "</table>\n",
       "</div>"
      ],
      "text/plain": [
       "       country     date   cases  deaths  recovered\n",
       "0  Afghanistan   2/8/23  208771    7896          0\n",
       "1  Afghanistan   2/9/23  208771    7896          0\n",
       "2  Afghanistan  2/10/23  208943    7896          0\n",
       "3  Afghanistan  2/11/23  208971    7896          0\n",
       "4  Afghanistan  2/12/23  208982    7896          0"
      ]
     },
     "execution_count": 91,
     "metadata": {},
     "output_type": "execute_result"
    }
   ],
   "source": [
    "# Normalize JSON into DataFram\n",
    "records = []\n",
    "\n",
    "for country_data in data:\n",
    "    country = country_data.get('country')\n",
    "    timeline = country_data.get('timeline', {})\n",
    "    cases = timeline.get('cases', {})\n",
    "    deaths = timeline.get('deaths', {})\n",
    "    recovered = timeline.get('recovered', {})\n",
    "\n",
    "    for date in cases:\n",
    "        records.append({\n",
    "            'country': country,\n",
    "            'date': date,\n",
    "            'cases': cases.get(date, None),\n",
    "            'deaths': deaths.get(date, None),\n",
    "            'recovered': recovered.get(date, None)\n",
    "        })\n",
    "\n",
    "df = pd.DataFrame(records)\n",
    "df.head()"
   ]
  },
  {
   "cell_type": "code",
   "execution_count": 94,
   "id": "1f451095-175a-40fc-b030-76864ff17567",
   "metadata": {},
   "outputs": [
    {
     "name": "stdout",
     "output_type": "stream",
     "text": [
      "Raw data saved successfully!\n"
     ]
    }
   ],
   "source": [
    "df.to_csv(\"raw_covid_data.csv\", index=False)\n",
    "print(\"Raw data saved successfully!\")"
   ]
  },
  {
   "cell_type": "markdown",
   "id": "4e28236e-d51f-48a8-b16e-cbf5920b22ce",
   "metadata": {},
   "source": [
    "# Step 3: Clean and Prepare Data"
   ]
  },
  {
   "cell_type": "code",
   "execution_count": 97,
   "id": "a300264e-611b-41a1-843f-c70898cc008e",
   "metadata": {},
   "outputs": [],
   "source": [
    "# Convert Date Strings to Datetime\n",
    "df['date'] = pd.to_datetime(df['date'], format=\"%m/%d/%y\")"
   ]
  },
  {
   "cell_type": "code",
   "execution_count": 99,
   "id": "2e90328a-ac03-4881-ad8b-96f36a0f2a52",
   "metadata": {},
   "outputs": [
    {
     "name": "stdout",
     "output_type": "stream",
     "text": [
      "country      0\n",
      "date         0\n",
      "cases        0\n",
      "deaths       0\n",
      "recovered    0\n",
      "dtype: int64\n"
     ]
    }
   ],
   "source": [
    "# Check for missing values\n",
    "print(df.isnull().sum())"
   ]
  },
  {
   "cell_type": "code",
   "execution_count": 101,
   "id": "47bc8f10-cf3d-4e39-9211-b9a676cafafe",
   "metadata": {},
   "outputs": [],
   "source": [
    "# Fill missing values\n",
    "df[['cases', 'deaths', 'recovered']] = df[['cases', 'deaths', 'recovered']].fillna(0)"
   ]
  },
  {
   "cell_type": "code",
   "execution_count": 103,
   "id": "a77373e7-bbe3-4731-b542-ec3dd5e9505b",
   "metadata": {},
   "outputs": [],
   "source": [
    "# Sort by country and date\n",
    "df.sort_values(by=['country', 'date'], inplace=True)\n",
    "# Remove countries where all values are zero\n",
    "df = df[(df['cases'] > 0) | (df['deaths'] > 0) | (df['recovered'] > 0)]"
   ]
  },
  {
   "cell_type": "markdown",
   "id": "5bbcb33a-8d57-4263-b78e-e144bdfe751d",
   "metadata": {},
   "source": [
    "# Step 4: Add Daily Change Columns"
   ]
  },
  {
   "cell_type": "code",
   "execution_count": 106,
   "id": "753d2dc7-1dfe-46b1-98fa-704d536021b2",
   "metadata": {},
   "outputs": [
    {
     "data": {
      "text/html": [
       "<div>\n",
       "<style scoped>\n",
       "    .dataframe tbody tr th:only-of-type {\n",
       "        vertical-align: middle;\n",
       "    }\n",
       "\n",
       "    .dataframe tbody tr th {\n",
       "        vertical-align: top;\n",
       "    }\n",
       "\n",
       "    .dataframe thead th {\n",
       "        text-align: right;\n",
       "    }\n",
       "</style>\n",
       "<table border=\"1\" class=\"dataframe\">\n",
       "  <thead>\n",
       "    <tr style=\"text-align: right;\">\n",
       "      <th></th>\n",
       "      <th>country</th>\n",
       "      <th>date</th>\n",
       "      <th>cases</th>\n",
       "      <th>deaths</th>\n",
       "      <th>recovered</th>\n",
       "      <th>new_cases</th>\n",
       "      <th>new_deaths</th>\n",
       "      <th>new_recovered</th>\n",
       "    </tr>\n",
       "  </thead>\n",
       "  <tbody>\n",
       "    <tr>\n",
       "      <th>0</th>\n",
       "      <td>Afghanistan</td>\n",
       "      <td>2023-02-08</td>\n",
       "      <td>208771</td>\n",
       "      <td>7896</td>\n",
       "      <td>0</td>\n",
       "      <td>0.0</td>\n",
       "      <td>0.0</td>\n",
       "      <td>0.0</td>\n",
       "    </tr>\n",
       "    <tr>\n",
       "      <th>1</th>\n",
       "      <td>Afghanistan</td>\n",
       "      <td>2023-02-09</td>\n",
       "      <td>208771</td>\n",
       "      <td>7896</td>\n",
       "      <td>0</td>\n",
       "      <td>0.0</td>\n",
       "      <td>0.0</td>\n",
       "      <td>0.0</td>\n",
       "    </tr>\n",
       "    <tr>\n",
       "      <th>2</th>\n",
       "      <td>Afghanistan</td>\n",
       "      <td>2023-02-10</td>\n",
       "      <td>208943</td>\n",
       "      <td>7896</td>\n",
       "      <td>0</td>\n",
       "      <td>172.0</td>\n",
       "      <td>0.0</td>\n",
       "      <td>0.0</td>\n",
       "    </tr>\n",
       "    <tr>\n",
       "      <th>3</th>\n",
       "      <td>Afghanistan</td>\n",
       "      <td>2023-02-11</td>\n",
       "      <td>208971</td>\n",
       "      <td>7896</td>\n",
       "      <td>0</td>\n",
       "      <td>28.0</td>\n",
       "      <td>0.0</td>\n",
       "      <td>0.0</td>\n",
       "    </tr>\n",
       "    <tr>\n",
       "      <th>4</th>\n",
       "      <td>Afghanistan</td>\n",
       "      <td>2023-02-12</td>\n",
       "      <td>208982</td>\n",
       "      <td>7896</td>\n",
       "      <td>0</td>\n",
       "      <td>11.0</td>\n",
       "      <td>0.0</td>\n",
       "      <td>0.0</td>\n",
       "    </tr>\n",
       "  </tbody>\n",
       "</table>\n",
       "</div>"
      ],
      "text/plain": [
       "       country       date   cases  deaths  recovered  new_cases  new_deaths  \\\n",
       "0  Afghanistan 2023-02-08  208771    7896          0        0.0         0.0   \n",
       "1  Afghanistan 2023-02-09  208771    7896          0        0.0         0.0   \n",
       "2  Afghanistan 2023-02-10  208943    7896          0      172.0         0.0   \n",
       "3  Afghanistan 2023-02-11  208971    7896          0       28.0         0.0   \n",
       "4  Afghanistan 2023-02-12  208982    7896          0       11.0         0.0   \n",
       "\n",
       "   new_recovered  \n",
       "0            0.0  \n",
       "1            0.0  \n",
       "2            0.0  \n",
       "3            0.0  \n",
       "4            0.0  "
      ]
     },
     "execution_count": 106,
     "metadata": {},
     "output_type": "execute_result"
    }
   ],
   "source": [
    "#  Add Daily New Cases/Deaths/Recoveries\n",
    "df[['new_cases', 'new_deaths', 'new_recovered']] = df.groupby('country')[['cases', 'deaths', 'recovered']].diff().fillna(0)\n",
    "df.head()"
   ]
  },
  {
   "cell_type": "markdown",
   "id": "ade1ed10-4145-408d-87d1-25636c317566",
   "metadata": {},
   "source": [
    "# Step 5: Clean Column Names and Export"
   ]
  },
  {
   "cell_type": "code",
   "execution_count": 109,
   "id": "73bec6e0-7a0d-4a88-8285-cc4e2280c1cb",
   "metadata": {},
   "outputs": [
    {
     "data": {
      "text/plain": [
       "country                  object\n",
       "date             datetime64[ns]\n",
       "cases                     int64\n",
       "deaths                    int64\n",
       "recovered                 int64\n",
       "new_cases               float64\n",
       "new_deaths              float64\n",
       "new_recovered           float64\n",
       "dtype: object"
      ]
     },
     "execution_count": 109,
     "metadata": {},
     "output_type": "execute_result"
    }
   ],
   "source": [
    "# Clean Column Names and Types\n",
    "df.columns = [col.lower() for col in df.columns]\n",
    "df.dtypes"
   ]
  },
  {
   "cell_type": "markdown",
   "id": "3db064e9-d3eb-47e3-8188-ce211f181d93",
   "metadata": {},
   "source": [
    "#  Export the Cleaned Data"
   ]
  },
  {
   "cell_type": "code",
   "execution_count": 112,
   "id": "8858e97e-c2a8-4801-a609-88c115a54cdd",
   "metadata": {},
   "outputs": [],
   "source": [
    "#  Export the Cleaned Data\n",
    "df.to_csv(\"cleaned_covid_data.csv\", index=False)"
   ]
  },
  {
   "cell_type": "code",
   "execution_count": null,
   "id": "11bda892-5bcc-4ab1-8b2d-52d1efe47561",
   "metadata": {},
   "outputs": [],
   "source": []
  },
  {
   "cell_type": "code",
   "execution_count": null,
   "id": "be2545bd-ed25-4b7e-a564-9fe73c4e4ab5",
   "metadata": {},
   "outputs": [],
   "source": []
  },
  {
   "cell_type": "code",
   "execution_count": null,
   "id": "6b5d714b-53f5-4d1f-83bd-e130befe3803",
   "metadata": {},
   "outputs": [],
   "source": []
  },
  {
   "cell_type": "code",
   "execution_count": null,
   "id": "18be72a9-2ade-4eda-8a5b-5c43c2c58bf7",
   "metadata": {},
   "outputs": [],
   "source": []
  },
  {
   "cell_type": "code",
   "execution_count": null,
   "id": "c78d8199-0614-4eb5-8828-1e3647d72170",
   "metadata": {},
   "outputs": [],
   "source": []
  },
  {
   "cell_type": "code",
   "execution_count": null,
   "id": "98d1565c-08ca-4bf2-ba7c-65e3138f82ab",
   "metadata": {},
   "outputs": [],
   "source": []
  },
  {
   "cell_type": "code",
   "execution_count": null,
   "id": "34b5d50b-c384-4c2f-8790-44696969904c",
   "metadata": {},
   "outputs": [],
   "source": []
  },
  {
   "cell_type": "code",
   "execution_count": null,
   "id": "5604acb1-a551-405a-a777-f44987766756",
   "metadata": {},
   "outputs": [],
   "source": []
  },
  {
   "cell_type": "code",
   "execution_count": null,
   "id": "ab993ae4-2133-4101-99da-5f110a748951",
   "metadata": {},
   "outputs": [],
   "source": []
  },
  {
   "cell_type": "code",
   "execution_count": null,
   "id": "9722bd8c-43d0-4a75-b83b-f2e21251dc89",
   "metadata": {},
   "outputs": [],
   "source": []
  },
  {
   "cell_type": "code",
   "execution_count": null,
   "id": "0985aa3a-1323-4b1b-894e-c061c3f9f606",
   "metadata": {},
   "outputs": [],
   "source": []
  },
  {
   "cell_type": "code",
   "execution_count": null,
   "id": "78427fd0-bd8f-447d-9330-b05b7f6d05aa",
   "metadata": {},
   "outputs": [],
   "source": []
  },
  {
   "cell_type": "code",
   "execution_count": null,
   "id": "b9d4fb71-0417-46d1-b013-73f89022ecd2",
   "metadata": {},
   "outputs": [],
   "source": []
  }
 ],
 "metadata": {
  "kernelspec": {
   "display_name": "Python 3 (ipykernel)",
   "language": "python",
   "name": "python3"
  },
  "language_info": {
   "codemirror_mode": {
    "name": "ipython",
    "version": 3
   },
   "file_extension": ".py",
   "mimetype": "text/x-python",
   "name": "python",
   "nbconvert_exporter": "python",
   "pygments_lexer": "ipython3",
   "version": "3.12.7"
  }
 },
 "nbformat": 4,
 "nbformat_minor": 5
}
